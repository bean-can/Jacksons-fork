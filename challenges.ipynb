{
  "cells": [
    {
      "cell_type": "code",
      "source": [
        "from google.colab import drive\n",
        "drive.mount('/content/drive')"
      ],
      "metadata": {
        "id": "UylG83I3tMCL",
        "outputId": "b0b7fff0-66da-4848-b738-fce01605136a",
        "colab": {
          "base_uri": "https://localhost:8080/",
          "height": 304
        }
      },
      "execution_count": 2,
      "outputs": [
        {
          "output_type": "error",
          "ename": "MessageError",
          "evalue": "Error: credential propagation was unsuccessful",
          "traceback": [
            "\u001b[0;31m---------------------------------------------------------------------------\u001b[0m",
            "\u001b[0;31mMessageError\u001b[0m                              Traceback (most recent call last)",
            "\u001b[0;32m<ipython-input-2-d5df0069828e>\u001b[0m in \u001b[0;36m<cell line: 2>\u001b[0;34m()\u001b[0m\n\u001b[1;32m      1\u001b[0m \u001b[0;32mfrom\u001b[0m \u001b[0mgoogle\u001b[0m\u001b[0;34m.\u001b[0m\u001b[0mcolab\u001b[0m \u001b[0;32mimport\u001b[0m \u001b[0mdrive\u001b[0m\u001b[0;34m\u001b[0m\u001b[0;34m\u001b[0m\u001b[0m\n\u001b[0;32m----> 2\u001b[0;31m \u001b[0mdrive\u001b[0m\u001b[0;34m.\u001b[0m\u001b[0mmount\u001b[0m\u001b[0;34m(\u001b[0m\u001b[0;34m'/content/drive'\u001b[0m\u001b[0;34m)\u001b[0m\u001b[0;34m\u001b[0m\u001b[0;34m\u001b[0m\u001b[0m\n\u001b[0m",
            "\u001b[0;32m/usr/local/lib/python3.10/dist-packages/google/colab/drive.py\u001b[0m in \u001b[0;36mmount\u001b[0;34m(mountpoint, force_remount, timeout_ms, readonly)\u001b[0m\n\u001b[1;32m     98\u001b[0m \u001b[0;32mdef\u001b[0m \u001b[0mmount\u001b[0m\u001b[0;34m(\u001b[0m\u001b[0mmountpoint\u001b[0m\u001b[0;34m,\u001b[0m \u001b[0mforce_remount\u001b[0m\u001b[0;34m=\u001b[0m\u001b[0;32mFalse\u001b[0m\u001b[0;34m,\u001b[0m \u001b[0mtimeout_ms\u001b[0m\u001b[0;34m=\u001b[0m\u001b[0;36m120000\u001b[0m\u001b[0;34m,\u001b[0m \u001b[0mreadonly\u001b[0m\u001b[0;34m=\u001b[0m\u001b[0;32mFalse\u001b[0m\u001b[0;34m)\u001b[0m\u001b[0;34m:\u001b[0m\u001b[0;34m\u001b[0m\u001b[0;34m\u001b[0m\u001b[0m\n\u001b[1;32m     99\u001b[0m   \u001b[0;34m\"\"\"Mount your Google Drive at the specified mountpoint path.\"\"\"\u001b[0m\u001b[0;34m\u001b[0m\u001b[0;34m\u001b[0m\u001b[0m\n\u001b[0;32m--> 100\u001b[0;31m   return _mount(\n\u001b[0m\u001b[1;32m    101\u001b[0m       \u001b[0mmountpoint\u001b[0m\u001b[0;34m,\u001b[0m\u001b[0;34m\u001b[0m\u001b[0;34m\u001b[0m\u001b[0m\n\u001b[1;32m    102\u001b[0m       \u001b[0mforce_remount\u001b[0m\u001b[0;34m=\u001b[0m\u001b[0mforce_remount\u001b[0m\u001b[0;34m,\u001b[0m\u001b[0;34m\u001b[0m\u001b[0;34m\u001b[0m\u001b[0m\n",
            "\u001b[0;32m/usr/local/lib/python3.10/dist-packages/google/colab/drive.py\u001b[0m in \u001b[0;36m_mount\u001b[0;34m(mountpoint, force_remount, timeout_ms, ephemeral, readonly)\u001b[0m\n\u001b[1;32m    135\u001b[0m   )\n\u001b[1;32m    136\u001b[0m   \u001b[0;32mif\u001b[0m \u001b[0mephemeral\u001b[0m\u001b[0;34m:\u001b[0m\u001b[0;34m\u001b[0m\u001b[0;34m\u001b[0m\u001b[0m\n\u001b[0;32m--> 137\u001b[0;31m     _message.blocking_request(\n\u001b[0m\u001b[1;32m    138\u001b[0m         \u001b[0;34m'request_auth'\u001b[0m\u001b[0;34m,\u001b[0m\u001b[0;34m\u001b[0m\u001b[0;34m\u001b[0m\u001b[0m\n\u001b[1;32m    139\u001b[0m         \u001b[0mrequest\u001b[0m\u001b[0;34m=\u001b[0m\u001b[0;34m{\u001b[0m\u001b[0;34m'authType'\u001b[0m\u001b[0;34m:\u001b[0m \u001b[0;34m'dfs_ephemeral'\u001b[0m\u001b[0;34m}\u001b[0m\u001b[0;34m,\u001b[0m\u001b[0;34m\u001b[0m\u001b[0;34m\u001b[0m\u001b[0m\n",
            "\u001b[0;32m/usr/local/lib/python3.10/dist-packages/google/colab/_message.py\u001b[0m in \u001b[0;36mblocking_request\u001b[0;34m(request_type, request, timeout_sec, parent)\u001b[0m\n\u001b[1;32m    174\u001b[0m       \u001b[0mrequest_type\u001b[0m\u001b[0;34m,\u001b[0m \u001b[0mrequest\u001b[0m\u001b[0;34m,\u001b[0m \u001b[0mparent\u001b[0m\u001b[0;34m=\u001b[0m\u001b[0mparent\u001b[0m\u001b[0;34m,\u001b[0m \u001b[0mexpect_reply\u001b[0m\u001b[0;34m=\u001b[0m\u001b[0;32mTrue\u001b[0m\u001b[0;34m\u001b[0m\u001b[0;34m\u001b[0m\u001b[0m\n\u001b[1;32m    175\u001b[0m   )\n\u001b[0;32m--> 176\u001b[0;31m   \u001b[0;32mreturn\u001b[0m \u001b[0mread_reply_from_input\u001b[0m\u001b[0;34m(\u001b[0m\u001b[0mrequest_id\u001b[0m\u001b[0;34m,\u001b[0m \u001b[0mtimeout_sec\u001b[0m\u001b[0;34m)\u001b[0m\u001b[0;34m\u001b[0m\u001b[0;34m\u001b[0m\u001b[0m\n\u001b[0m",
            "\u001b[0;32m/usr/local/lib/python3.10/dist-packages/google/colab/_message.py\u001b[0m in \u001b[0;36mread_reply_from_input\u001b[0;34m(message_id, timeout_sec)\u001b[0m\n\u001b[1;32m    101\u001b[0m     ):\n\u001b[1;32m    102\u001b[0m       \u001b[0;32mif\u001b[0m \u001b[0;34m'error'\u001b[0m \u001b[0;32min\u001b[0m \u001b[0mreply\u001b[0m\u001b[0;34m:\u001b[0m\u001b[0;34m\u001b[0m\u001b[0;34m\u001b[0m\u001b[0m\n\u001b[0;32m--> 103\u001b[0;31m         \u001b[0;32mraise\u001b[0m \u001b[0mMessageError\u001b[0m\u001b[0;34m(\u001b[0m\u001b[0mreply\u001b[0m\u001b[0;34m[\u001b[0m\u001b[0;34m'error'\u001b[0m\u001b[0;34m]\u001b[0m\u001b[0;34m)\u001b[0m\u001b[0;34m\u001b[0m\u001b[0;34m\u001b[0m\u001b[0m\n\u001b[0m\u001b[1;32m    104\u001b[0m       \u001b[0;32mreturn\u001b[0m \u001b[0mreply\u001b[0m\u001b[0;34m.\u001b[0m\u001b[0mget\u001b[0m\u001b[0;34m(\u001b[0m\u001b[0;34m'data'\u001b[0m\u001b[0;34m,\u001b[0m \u001b[0;32mNone\u001b[0m\u001b[0;34m)\u001b[0m\u001b[0;34m\u001b[0m\u001b[0;34m\u001b[0m\u001b[0m\n\u001b[1;32m    105\u001b[0m \u001b[0;34m\u001b[0m\u001b[0m\n",
            "\u001b[0;31mMessageError\u001b[0m: Error: credential propagation was unsuccessful"
          ]
        }
      ]
    },
    {
      "cell_type": "code",
      "execution_count": 4,
      "metadata": {
        "id": "iSvg1ArQtFcD"
      },
      "outputs": [],
      "source": [
        "from documanager import Document, Library # import the Document and Library classes"
      ]
    },
    {
      "cell_type": "code",
      "execution_count": 6,
      "metadata": {
        "id": "NSU0HKNXtFcE"
      },
      "outputs": [],
      "source": [
        "path_to_doc1 = r'd1.txt'\n",
        "\n",
        "d1 = Document(path_to_file=path_to_doc1) # create a document object"
      ]
    },
    {
      "cell_type": "code",
      "execution_count": 7,
      "metadata": {
        "id": "NBsmARhetFcE",
        "outputId": "29024f75-1879-4cb3-eb8e-fcdfce98e51f",
        "colab": {
          "base_uri": "https://localhost:8080/"
        }
      },
      "outputs": [
        {
          "output_type": "stream",
          "name": "stdout",
          "text": [
            "None\n"
          ]
        }
      ],
      "source": [
        "print(d1.title) # The title isn't set yet..."
      ]
    },
    {
      "cell_type": "code",
      "execution_count": 8,
      "metadata": {
        "id": "OThro2hZtFcF"
      },
      "outputs": [],
      "source": [
        "d1.set_properties()"
      ]
    },
    {
      "cell_type": "code",
      "execution_count": 9,
      "metadata": {
        "id": "6_KMONH3tFcF",
        "outputId": "8111bc62-c6b6-46bd-95b8-48ba3acf4760",
        "colab": {
          "base_uri": "https://localhost:8080/"
        }
      },
      "outputs": [
        {
          "output_type": "stream",
          "name": "stdout",
          "text": [
            "Martha: up close & personal\n"
          ]
        }
      ],
      "source": [
        "print(d1.title) # Now it is..."
      ]
    },
    {
      "cell_type": "code",
      "execution_count": 11,
      "metadata": {
        "id": "3AO50mtftFcF",
        "outputId": "4312ddfa-bc40-474a-8e44-be9e1bab3621",
        "colab": {
          "base_uri": "https://localhost:8080/"
        }
      },
      "outputs": [
        {
          "output_type": "stream",
          "name": "stdout",
          "text": [
            "My Library has 1 documents.\n"
          ]
        }
      ],
      "source": [
        "# lets create a library\n",
        "\n",
        "lib = Library(docs=[d1], name='My Library')\n",
        "print(lib)"
      ]
    },
    {
      "cell_type": "code",
      "execution_count": 12,
      "metadata": {
        "id": "5KEeBQ_AtFcF",
        "outputId": "3df06005-1391-47ea-e9bf-91f9ce89ceee",
        "colab": {
          "base_uri": "https://localhost:8080/"
        }
      },
      "outputs": [
        {
          "output_type": "stream",
          "name": "stdout",
          "text": [
            "\n",
            "The length of the Library is 1\n"
          ]
        }
      ],
      "source": [
        "print(f'\\nThe length of the Library is {len(lib)}') # why does this function return 1?"
      ]
    },
    {
      "cell_type": "markdown",
      "metadata": {
        "id": "YazP2rnXtFcF"
      },
      "source": [
        "### Challenge 1\n",
        "\n",
        "- Get the following cells to run properly"
      ]
    },
    {
      "cell_type": "code",
      "execution_count": 20,
      "metadata": {
        "id": "mChHiEp7tFcG",
        "outputId": "cf5241fc-a2c9-405b-fb3d-ab0e2d5915e2",
        "colab": {
          "base_uri": "https://localhost:8080/",
          "height": 159
        }
      },
      "outputs": [
        {
          "output_type": "error",
          "ename": "TypeError",
          "evalue": "__repr__ returned non-string (type NoneType)",
          "traceback": [
            "\u001b[0;31m---------------------------------------------------------------------------\u001b[0m",
            "\u001b[0;31mTypeError\u001b[0m                                 Traceback (most recent call last)",
            "\u001b[0;32m<ipython-input-20-32cc5271666a>\u001b[0m in \u001b[0;36m<cell line: 1>\u001b[0;34m()\u001b[0m\n\u001b[0;32m----> 1\u001b[0;31m \u001b[0mprint\u001b[0m\u001b[0;34m(\u001b[0m\u001b[0mrepr\u001b[0m\u001b[0;34m(\u001b[0m\u001b[0md1\u001b[0m\u001b[0;34m)\u001b[0m\u001b[0;34m)\u001b[0m \u001b[0;31m# should return the title and the date of the document (make it a little neat) (HINT: use the __repr__ method)\u001b[0m\u001b[0;34m\u001b[0m\u001b[0;34m\u001b[0m\u001b[0m\n\u001b[0m",
            "\u001b[0;31mTypeError\u001b[0m: __repr__ returned non-string (type NoneType)"
          ]
        }
      ],
      "source": [
        "print(repr(d1)) # should return the title and the date of the document (make it a little neat) (HINT: use the __repr__ method)"
      ]
    },
    {
      "cell_type": "code",
      "execution_count": null,
      "metadata": {
        "id": "NubWwqz7tFcG"
      },
      "outputs": [],
      "source": [
        "contains_farm = d1.contains_substr_in_body(substr=\"farm\")\n",
        "contains_hello = d1.contains_substr_in_body(substr=\"hello\")\n",
        "\n",
        "print(f'The document body contains the string \"farm\": {contains_farm}')\n",
        "print(f'The document body contains the string \"hello\": {contains_hello}')"
      ]
    },
    {
      "cell_type": "code",
      "execution_count": null,
      "metadata": {
        "id": "WWGWfJFRtFcG"
      },
      "outputs": [],
      "source": [
        "d1.edit_document() # this method can utilize the class variable (not an instance variable) to create an command to be run."
      ]
    },
    {
      "cell_type": "markdown",
      "metadata": {
        "id": "xjam_mjutFcG"
      },
      "source": [
        "### Challenge 2\n",
        "\n",
        "- Finish implementing the ScienceDocument class.\n",
        "- Note that ScienceDocument inherits from Document. We actually call Document's constructor when we do `super().__init__(path_to_file)`.\n",
        "<br/><br/>\n",
        "- Implement the `set_properties()` method for the ScienceDocument class.\n",
        "- Implement the `__repr__()` method for the ScienceDocument class.\n",
        "- Do we need to implement a contains_substr_in_body() method for the ScienceDocument class? Why or why not?\n"
      ]
    },
    {
      "cell_type": "code",
      "execution_count": null,
      "metadata": {
        "id": "eSuFGNrwtFcG"
      },
      "outputs": [],
      "source": [
        "from documanager import ___ # TODO: FILL ME IN"
      ]
    },
    {
      "cell_type": "code",
      "execution_count": null,
      "metadata": {
        "id": "wQMBQZvrtFcG"
      },
      "outputs": [],
      "source": [
        "# try calling the methods as well\n",
        "path_to_d2 = r'/documents/d2.txt'\n",
        "\n",
        "d2 = ScienceDocument(path_to_d2)"
      ]
    },
    {
      "cell_type": "code",
      "execution_count": null,
      "metadata": {
        "id": "c4reluQOtFcG"
      },
      "outputs": [],
      "source": [
        "d2.set_properties()"
      ]
    },
    {
      "cell_type": "code",
      "execution_count": null,
      "metadata": {
        "id": "hVOaIbsRtFcG"
      },
      "outputs": [],
      "source": [
        "print(d2)"
      ]
    },
    {
      "cell_type": "code",
      "execution_count": null,
      "metadata": {
        "id": "1HHY6fwOtFcG"
      },
      "outputs": [],
      "source": [
        "d2.contains_substr_in_body()"
      ]
    },
    {
      "cell_type": "markdown",
      "metadata": {
        "id": "SBC7HPGGtFcG"
      },
      "source": [
        "### Challenge 3\n",
        "\n",
        "- Add a condition to the `Library.add_documents()` method that ensures that all properites of a document are set before adding it to the library. The funciton should print a message if the properties are not set (also it should NOT add the document).\n",
        "\n",
        "- **BONUS**: Have the `Library.add_documents()` raise an exception instead of printing a message (HINT: see the `ValueError` exception? You can raise a general exception with the `Exception` class.)"
      ]
    },
    {
      "cell_type": "code",
      "execution_count": null,
      "metadata": {
        "id": "StA_DbtatFcG"
      },
      "outputs": [],
      "source": [
        "path_to_d3 = r'documents/d2.txt'\n",
        "\n",
        "d3 = Document(path_to_file=path_to_d3)"
      ]
    },
    {
      "cell_type": "code",
      "execution_count": null,
      "metadata": {
        "id": "drFa2yzptFcG"
      },
      "outputs": [],
      "source": [
        "lib.add_documents(d2) # this should print an message if the properites are not set"
      ]
    },
    {
      "cell_type": "markdown",
      "metadata": {
        "id": "dlRRVzHFtFcG"
      },
      "source": [
        "### Challenge 4\n",
        "\n",
        "- Change the `Library` class so that it uses a dictionary to store the documents instead of a list.\n",
        "\n",
        "- This will require changes to the `__init__()` method, the `add_documents()` method, and the `get_all_documents()` method.\n",
        "\n",
        "- Implement the `get_document_by_title()` method for the `Library` class.\n",
        "\n",
        "- **BONUS**: Implement a `search_by_substring()` method for the `Library` class. This function will take a string as an argument and return a list of all documents that contain that string in their body.\n",
        "\n",
        "- **BONUS**: Remember the `__getitem__()` magic method that we saw last week? Use this function instead of `get_documents_by_title()` to allow usage of square bracket notation (i.e. `lib[\"key\"]`)\n"
      ]
    },
    {
      "cell_type": "code",
      "execution_count": null,
      "metadata": {
        "id": "h8WtUI3wtFcH"
      },
      "outputs": [],
      "source": []
    },
    {
      "cell_type": "code",
      "execution_count": null,
      "metadata": {
        "id": "8sHTyLzOtFcH"
      },
      "outputs": [],
      "source": [
        "# once the library class is changed. create a new library and pass in the two documents that we've created.\n",
        "\n",
        "lib2 = Library([d1, d2, d3], name=\"My Library 2\")"
      ]
    },
    {
      "cell_type": "code",
      "execution_count": null,
      "metadata": {
        "id": "CB1xqeH-tFcH"
      },
      "outputs": [],
      "source": []
    },
    {
      "cell_type": "markdown",
      "metadata": {
        "id": "xmwRgcNYtFcH"
      },
      "source": [
        "### Challenge 5\n",
        "\n",
        "- Implement the GradeBook class. Notice that it would be rather counterintuitive to use the Document class as a parent class for this one because of the Document properites created in the `__init__()` method. What can you do??\n",
        "- Have some fun with this one."
      ]
    }
  ],
  "metadata": {
    "kernelspec": {
      "display_name": "PythonChallenge",
      "language": "python",
      "name": "python3"
    },
    "language_info": {
      "codemirror_mode": {
        "name": "ipython",
        "version": 3
      },
      "file_extension": ".py",
      "mimetype": "text/x-python",
      "name": "python",
      "nbconvert_exporter": "python",
      "pygments_lexer": "ipython3",
      "version": "3.10.6"
    },
    "colab": {
      "provenance": []
    }
  },
  "nbformat": 4,
  "nbformat_minor": 0
}